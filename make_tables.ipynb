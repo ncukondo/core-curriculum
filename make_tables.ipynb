{
 "cells": [
  {
   "cell_type": "code",
   "execution_count": 117,
   "metadata": {},
   "outputs": [
    {
     "name": "stdout",
     "output_type": "stream",
     "text": [
      "output... ./dist/test_output.html\n"
     ]
    }
   ],
   "source": [
    "import pandas as pd\n",
    "from textwrap import dedent\n",
    "\n",
    "\n",
    "ex_tables = {\n",
    "    \"別表:基本的臨床手技\": {\"path\":\"./raw/sheets/技能編集用/基本的臨床手技.csv\"},\n",
    "    \"別表:基本的診療科\": {\"path\":\"./raw/sheets/技能編集用/基本的診療科.csv\"},\n",
    "}\n",
    "\n",
    "output=\"<h1>表</h1>\"\n",
    "\n",
    "for table_name,info in ex_tables.items():\n",
    "    table = pd.read_csv(info[\"path\"])\n",
    "    output += f\"\\n\\n## {table_name}\\n\\n\\n\"+table.to_html()\n",
    "\n",
    "table = pd.read_csv(\"./raw/sheets/知識編集用/別表-知識.csv\")\n",
    "table = table.loc[:,[\"臓器\",\"分類\",\"項目名\"]]\n",
    "\n",
    "def stack_samerows(table:pd.DataFrame,splitter:str=\":::\"):\n",
    "    \"\"\" stack samerows in dataframe\"\"\"\n",
    "    columns=list(table.columns.values)\n",
    "    output_table=table.copy().fillna(\"\")\n",
    "    template_table=output_table.copy()\n",
    "    for i in range(0,len(columns)-1):\n",
    "        to_indexed = columns[0:i+1]\n",
    "        indexed =template_table.groupby(to_indexed,as_index=False,sort=False)\\\n",
    "            .count()\\\n",
    "            .apply(lambda x:[x[i]+splitter+str(x[i+1]),*[None]*(x[i+1]-1)],axis=1)\n",
    "        indexed = sum(indexed,[])\n",
    "        output_table.iloc[:,i]=indexed\n",
    "    return output_table\n",
    "\n",
    "def make_html_table(table:pd.DataFrame,stack:bool=False):\n",
    "    \"\"\" make html table from dataframe \"\"\"\n",
    "    SPLITTER=\"::-:-::\"\n",
    "    def to_table_cell(x):\n",
    "        if x==None:\n",
    "            return \"\"\n",
    "        elif SPLITTER in x:\n",
    "            s=x.split(SPLITTER)\n",
    "            return f'<td rowspan=\"{s[1]}\">{s[0]}</td>'\n",
    "        else:\n",
    "            return f\"<td>{x}</td>\"\n",
    "\n",
    "    output_table= stack_samerows(table,SPLITTER) if stack else table.copy().fillna(\"\")\n",
    "    columns=list(table.columns.values)\n",
    "\n",
    "    output_table=output_table.applymap(to_table_cell)\n",
    "\n",
    "    theader=f\"<thead><tr><th>{'</th><th>'.join(columns)}</th></thead></tr>\"\n",
    "    tbody=\"<tbody>\\n\"\n",
    "    for items in output_table.fillna(\"\").itertuples():\n",
    "        row=f\"<tr>{''.join(items[1:])}</tr>\\n\"\n",
    "        tbody += row\n",
    "    tbody+=\"</tbody>\\n\"\n",
    "    table_html=f\"<table border=1>{theader}\\n{tbody}</table>\"\n",
    "    return table_html\n",
    "\n",
    "output= make_html_table(table,stack=True)\n",
    "\n",
    "with open(\"./dist/test_output.html\",\"w\") as f:\n",
    "    f.write(output)\n",
    "\n",
    "print(\"output... ./dist/test_output.html\")\n"
   ]
  },
  {
   "cell_type": "code",
   "execution_count": 133,
   "metadata": {},
   "outputs": [
    {
     "name": "stdout",
     "output_type": "stream",
     "text": [
      "output... ./dist/test_output.tex\n"
     ]
    }
   ],
   "source": [
    "import pandas as pd\n",
    "from lib.dataframe_to_table import make_latex_table\n",
    "from textwrap import dedent\n",
    "\n",
    "\n",
    "table = pd.read_csv(\"./raw/sheets/知識編集用/別表-知識.csv\")\n",
    "table = table.loc[:,[\"臓器\",\"分類\",\"項目名\"]]\n",
    "output= make_latex_table(table,stack=True)\n",
    "\n",
    "with open(\"./dist/test_output.tex\",\"w\") as f:\n",
    "    f.write(output)\n",
    "\n",
    "print(\"output... ./dist/test_output.tex\")\n"
   ]
  }
 ],
 "metadata": {
  "interpreter": {
   "hash": "d4d1e4263499bec80672ea0156c357c1ee493ec2b1c70f0acce89fc37c4a6abe"
  },
  "kernelspec": {
   "display_name": "Python 3.9.7 ('base')",
   "language": "python",
   "name": "python3"
  },
  "language_info": {
   "codemirror_mode": {
    "name": "ipython",
    "version": 3
   },
   "file_extension": ".py",
   "mimetype": "text/x-python",
   "name": "python",
   "nbconvert_exporter": "python",
   "pygments_lexer": "ipython3",
   "version": "3.9.7"
  },
  "orig_nbformat": 4
 },
 "nbformat": 4,
 "nbformat_minor": 2
}
