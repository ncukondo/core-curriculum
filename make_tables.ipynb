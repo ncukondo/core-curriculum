{
 "cells": [
  {
   "cell_type": "code",
   "execution_count": null,
   "metadata": {},
   "outputs": [],
   "source": [
    "import pandas as pd\n",
    "\n",
    "ex_tables = {\n",
    "    \"別表:基本的臨床手技\": {\"path\":\"./raw/sheets/技能編集用/基本的臨床手技.csv\"},\n",
    "    \"別表:基本的診療科\": {\"path\":\"./raw/sheets/技能編集用/基本的診療科.csv\"},\n",
    "}\n",
    "\n",
    "output=\"\"\n",
    "\n",
    "for table_name,info in ex_tables.items():\n",
    "    table = pd.read_csv(info[\"path\"])\n",
    "    output += f\"\\n\\n## {table_name}\\n\\n\\n\"+table.to_html()\n",
    "\n",
    "table = pd.read_csv(\"./raw/sheets/知識編集用/臓器別知識.csv\")\n",
    "\n",
    "columns=list(table.columns.values)\n",
    "temp_column=table.columns.values[-1]+\"-temp\"\n",
    "table[temp_column]=table[table.columns.values[-1]]\n",
    "table = table.groupby(columns).agg(lambda x:\"\".join(list(x)))\n",
    "table=table.drop(temp_column,axis=1)\n",
    "output += f\"\\n\\n## 臓器別知識\\n\\n\"+table.to_html()\n",
    "\n",
    "output"
   ]
  }
 ],
 "metadata": {
  "language_info": {
   "name": "python"
  },
  "orig_nbformat": 4
 },
 "nbformat": 4,
 "nbformat_minor": 2
}
