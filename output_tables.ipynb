{
 "cells": [
  {
   "cell_type": "code",
   "execution_count": 1,
   "metadata": {},
   "outputs": [
    {
     "name": "stdout",
     "output_type": "stream",
     "text": [
      "              臓器            カテゴリ サブカテゴリ             疾患\n",
      "0    血液・造血器・リンパ系              貧血    NaN         鉄欠乏性貧血\n",
      "1    血液・造血器・リンパ系              貧血  二次性貧血      慢性疾患に伴う貧血\n",
      "2    血液・造血器・リンパ系              貧血  造血不全症  発作性夜間ヘモグロビン尿症\n",
      "3    血液・造血器・リンパ系              貧血  造血不全症        再生不良性貧血\n",
      "4    血液・造血器・リンパ系              貧血  造血不全症           赤芽球癆\n",
      "..           ...             ...    ...            ...\n",
      "776           腫瘍  オンコロジーエマージェンシー    NaN           脊髄圧迫\n",
      "777           腫瘍  オンコロジーエマージェンシー    NaN           腫瘍崩壊\n",
      "778           腫瘍  オンコロジーエマージェンシー    NaN        上大静脈症候群\n",
      "779           腫瘍  オンコロジーエマージェンシー    NaN           代謝障害\n",
      "780           腫瘍  オンコロジーエマージェンシー    NaN       治療の有害事象等\n",
      "\n",
      "[781 rows x 4 columns]\n",
      "output... ./dist/r4_tables.tex\n"
     ]
    }
   ],
   "source": [
    "import pandas as pd\n",
    "from lib.dataframe_to_table import make_latex_table\n",
    "from lib.dataframe_to_table import make_html_table\n",
    "from textwrap import dedent\n",
    "import glob\n",
    "\n",
    "def make_draft_tables():\n",
    "    table_index = pd.read_csv('./raw/sheets/別表一覧/別表一覧.csv')\n",
    "\n",
    "    latex_output=\"\"\n",
    "    html_output=\"\"\n",
    "    for row in table_index.itertuples():\n",
    "        file = list[0] if len(list:=glob.glob(f\"./raw/sheets/*編集用/別表-{row.データ元}.csv\"))>0 else \"\"\n",
    "        if file==\"\":\n",
    "            continue\n",
    "        table = pd.read_csv(file)\n",
    "\n",
    "        table = table.loc[:,row.列.split(\",\")]\n",
    "        print(table)\n",
    "        latex_output+=make_latex_table(table,row.id,group=True)+\"\\n\\n\"\n",
    "        html_output+=make_html_table(table,group=True)+\"\\n\\n\"\n",
    "\n",
    "    with open(\"./dist/r4_draft_tables.tex\",\"w\") as f:\n",
    "        f.write(latex_output)\n",
    "    with open(\"./dist/r4_draft_tables.html\",\"w\") as f:\n",
    "        f.write(html_output)\n",
    "\n",
    "    print(\"output... ./dist/r4_tables.tex\")\n",
    "\n",
    "make_draft_tables()\n"
   ]
  }
 ],
 "metadata": {
  "interpreter": {
   "hash": "d4d1e4263499bec80672ea0156c357c1ee493ec2b1c70f0acce89fc37c4a6abe"
  },
  "kernelspec": {
   "display_name": "Python 3.9.7 ('base')",
   "language": "python",
   "name": "python3"
  },
  "language_info": {
   "codemirror_mode": {
    "name": "ipython",
    "version": 3
   },
   "file_extension": ".py",
   "mimetype": "text/x-python",
   "name": "python",
   "nbconvert_exporter": "python",
   "pygments_lexer": "ipython3",
   "version": "3.9.10"
  },
  "orig_nbformat": 4
 },
 "nbformat": 4,
 "nbformat_minor": 2
}
