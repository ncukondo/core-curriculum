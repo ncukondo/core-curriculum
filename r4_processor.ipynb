{
 "cells": [
  {
   "cell_type": "code",
   "execution_count": 14,
   "metadata": {},
   "outputs": [],
   "source": [
    "import pandas as pd\n",
    "import glob\n",
    "\n",
    "\n",
    "r4_l1=pd.read_csv(\"./raw/R4_L1.csv\")\n",
    "r4_l2=pd.read_csv(\"./raw/R4_L2.csv\")\n",
    "\n",
    "\n",
    "files = glob.glob(\"./raw/R4_L3L4*.csv\")\n",
    "r4_l234 = pd.DataFrame(data=[],columns=[\"第2層\",\"第3層\",\"第4層\",\"メモ\"])\n",
    "for file in files:\n",
    "    r4_l34_unit=pd.read_csv(file)\n",
    "    r4_l234=pd.concat([r4_l234,r4_l34_unit.loc[:,[\"第2層\",\"第3層\",\"第4層\",\"メモ\"]]])\n",
    "\n",
    "r4_l12=pd.merge(r4_l1,r4_l2,how=\"outer\").iloc[:,[0,1,2,3,4]]\n",
    "r4_full=pd.merge(r4_l12,r4_l234,how=\"outer\")\n",
    "r4_full.to_csv(\"./dist/r4_full.csv\",encoding=\"utf_8_sig\")\n",
    "r4_no_disc=r4_full.loc[:,[\"第1層\",\"第2層\",\"第3層\",\"第4層\"]]\n",
    "r4_no_disc.to_csv(\"./dist/r4_no_disc.csv\",encoding=\"utf_8_sig\")\n",
    "\n",
    "r4_full\n",
    "\n"
   ]
  },
  {
   "cell_type": "code",
   "execution_count": 17,
   "metadata": {},
   "outputs": [],
   "source": [
    "def dataframe_to_text(data:pd.DataFrame):\n",
    "    def col_to(data:pd.DataFrame,index:int):\n",
    "        return list(data.columns.values[0:index])\n",
    "\n",
    "    def accum_col(data:pd.DataFrame):\n",
    "        col_1=data.columns.values[-1]\n",
    "        col_2=data.columns.values[-2]\n",
    "        data=pd.DataFrame({col_1:data.groupby(col_to(data,-1))[col_1].agg(lambda x:\"\\n\".join(list(x)))}).reset_index()\n",
    "        data[col_2]=data[col_2]+\"\\n\"+data[col_1]\n",
    "        return data.drop(col_1,axis=1)\n",
    "\n",
    "    for _ in range(1,len(data.columns)):\n",
    "        data=accum_col(data)\n",
    "\n",
    "    return \"\\n\".join(list(data.iloc[:,0]))\n",
    "\n",
    "r4_full=r4_full.fillna(\"\")\n",
    "r4_to_md=pd.DataFrame(data=[],columns=[\"第1層\",\"第2層\",\"第3層\",\"第4層\"])\n",
    "r4_to_md[\"第1層\"]=\"# \"+r4_full[\"第1層\"]+\"\\n\\n\"+r4_full[\"第1層説明\"]\n",
    "r4_to_md[\"第2層\"]=\"## \"+r4_full[\"第2層\"]+\"\\n\\n\"+r4_full[\"第2層説明\"]\n",
    "r4_to_md[\"第3層\"]=\"### \"+r4_full[\"第3層\"]\n",
    "r4_to_md[\"第4層\"]=\"1. \"+r4_full[\"第4層\"]\n",
    "\n",
    "r4_md_text=dataframe_to_text(r4_to_md)\n",
    "with open(\"./dist/r4.md\",\"w\") as f:\n",
    "    f.write(r4_md_text)\n"
   ]
  }
 ],
 "metadata": {
  "interpreter": {
   "hash": "d4d1e4263499bec80672ea0156c357c1ee493ec2b1c70f0acce89fc37c4a6abe"
  },
  "kernelspec": {
   "display_name": "Python 3.9.7 64-bit ('base': conda)",
   "language": "python",
   "name": "python3"
  },
  "language_info": {
   "codemirror_mode": {
    "name": "ipython",
    "version": 3
   },
   "file_extension": ".py",
   "mimetype": "text/x-python",
   "name": "python",
   "nbconvert_exporter": "python",
   "pygments_lexer": "ipython3",
   "version": "3.9.7"
  },
  "orig_nbformat": 4
 },
 "nbformat": 4,
 "nbformat_minor": 2
}
