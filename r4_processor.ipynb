{
 "cells": [
  {
   "cell_type": "code",
   "execution_count": 3,
   "metadata": {},
   "outputs": [],
   "source": [
    "import csv\n",
    "import pandas as pd\n",
    "\n",
    "\n",
    "r4_l1=pd.read_csv(\"./raw/R4_L1.csv\")\n",
    "r4_l2=pd.read_csv(\"./raw/R4_L2.csv\")\n",
    "\n",
    "columns=[\"第2層\",\"第3層\",\"第4層\",\"メモ\"]\n",
    "r4_l234 = pd.DataFrame(data=[],columns=columns)\n",
    "tabs=r4_l1[\"タブ名\"]\n",
    "for tab in tabs:\n",
    "    r4_l34_unit=pd.read_csv(f\"./raw/R4_L3L4_{tab}.csv\")\n",
    "    r4_l234=pd.concat([r4_l234,r4_l34_unit.loc[:,columns]])\n",
    "\n",
    "r4_l12=pd.merge(r4_l1,r4_l2,how=\"outer\").rename(columns={\"メモ\":\"第2層メモ\"})\n",
    "r4_full=pd.merge(r4_l12,r4_l234,how=\"outer\")\n",
    "r4_full.to_csv(\"./dist/r4_full.csv\",encoding=\"utf_8_sig\",quoting=csv.QUOTE_NONNUMERIC)\n",
    "r4_no_disc=r4_full.loc[:,[\"第1層\",\"第2層\",\"第3層\",\"第4層\"]]\n",
    "r4_no_disc.to_csv(\"./dist/r4_no_disc.csv\",encoding=\"utf_8_sig\",quoting=csv.QUOTE_NONNUMERIC)\n",
    "\n",
    "\n",
    "# output ordered table for comments\n",
    "order=[\"プロ\", \"総合\", \"生涯\", \"科学\", \"情報\", \"コミュ\", \"連携\", \"社会\", \"技能\", \"知識\" ]\n",
    "order_dict=pd.DataFrame({\"order\":[i for i,v in enumerate(order)],\"タブ名\":order})\n",
    "r4_ordered=pd\\\n",
    "    .merge(r4_full,order_dict,how=\"left\",on=\"タブ名\")\\\n",
    "    .sort_values(by=\"order\",kind=\"mergesort\")\\\n",
    "    .drop(\"order\",axis=1)\n",
    "r4_ordered\\\n",
    "    .to_csv(\"./dist/r4_full_ordered.csv\",encoding=\"utf_8_sig\",quoting=csv.QUOTE_NONNUMERIC)\n",
    "r4_ordered \\\n",
    "    .loc[:,[\"第1層\",\"第2層\",\"第3層\",\"第4層\"]]\\\n",
    "    .groupby([\"第1層\",\"第2層\",\"第3層\"], as_index=False,sort=False)\\\n",
    "    .sum()\\\n",
    "    .drop(\"第4層\",axis=1)\\\n",
    "    .to_csv(\"./dist/r4_l123_ordered.csv\",encoding=\"utf_8_sig\",quoting=csv.QUOTE_NONNUMERIC)\n",
    "r4_ordered \\\n",
    "    .loc[:,[\"第1層\",\"第2層\",\"第2層説明\",\"第3層\"]]\\\n",
    "    .groupby([\"第1層\",\"第2層\",\"第2層説明\",], as_index=False,sort=False)\\\n",
    "    .sum()\\\n",
    "    .drop(\"第3層\",axis=1)\\\n",
    "    .to_csv(\"./dist/r4_l12_ordered.csv\",encoding=\"utf_8_sig\",quoting=csv.QUOTE_NONNUMERIC)\n",
    "\n"
   ]
  },
  {
   "cell_type": "code",
   "execution_count": 14,
   "metadata": {},
   "outputs": [
    {
     "name": "stdout",
     "output_type": "stream",
     "text": [
      "['タブ名', '第1層イニシャル', '第1層', '第1層説明', '第2層', '第2層説明', '第2層メモ', '第3層', '第4層', 'メモ']\n"
     ]
    }
   ],
   "source": [
    "\n",
    "def dataframe_to_text(data:pd.DataFrame):\n",
    "    def col_to(data:pd.DataFrame,index:int):\n",
    "        return list(data.columns.values[0:index])\n",
    "\n",
    "    def accum_col(data:pd.DataFrame):\n",
    "        col_1=data.columns.values[-1]\n",
    "        col_2=data.columns.values[-2]\n",
    "        data=data\\\n",
    "            .groupby(col_to(data,-1), as_index=False,sort=False)\\\n",
    "            .agg(lambda x:\"\\n\".join(list(x)))\n",
    "        data[col_2]=data[col_2]+\"\\n\"+data[col_1]\n",
    "        return data.drop(col_1,axis=1)\n",
    "\n",
    "    for _ in range(1,len(data.columns)):\n",
    "        data=accum_col(data)\n",
    "\n",
    "    return '\\n'.join(list(data.iloc[:,0]))\n",
    "\n",
    "r4_full=r4_full.fillna(\"\")\n",
    "\n",
    "r4_to_md=pd.DataFrame(data=[],columns=[\"第1層\",\"第2層\",\"第3層\",\"第4層\"])\n",
    "r4_to_md[\"第1層\"]=\"\\n\"+\"# \"+r4_full[\"第1層\"]+\"\\n\\n\"+r4_full[\"第1層説明\"]+\"\\n\"\n",
    "r4_to_md[\"第2層\"]=\"\\n\"+\"## \"+r4_full[\"第2層\"]+\"\\n\\n\"+r4_full[\"第2層説明\"]+\"\\n\"\n",
    "r4_to_md[\"第3層\"]=\"\\n\"+\"### \"+r4_full[\"第3層\"]+\"\\n\"\n",
    "r4_to_md[\"第4層\"]=\"1. \"+r4_full[\"第4層\"]\n",
    "\n",
    "r4_md_to_edit=pd.DataFrame(data=[],columns=[\"第1層\",\"第2層\",\"第3層\",\"第4層\"])\n",
    "r4_md_to_edit[\"第1層\"]=\"\\n\"+\"# \"+r4_full[\"第1層\"]+\"(第1層)\\n\\n\"+r4_full[\"第1層説明\"]+\"\\n\"\n",
    "r4_md_to_edit[\"第2層\"]=\"\\n\"+\"## \"+r4_full[\"第2層\"]+\"(第2層)\\n\\n\"+r4_full[\"第2層説明\"]+\"\\n\"\n",
    "r4_md_to_edit[\"第3層\"]=\"\\n\"+\"### \"+r4_full[\"第3層\"]+\"(第3層)\\n\"\n",
    "r4_md_to_edit[\"第4層\"]=\"1. \"+r4_full[\"第4層\"]\n",
    "\n",
    "r4_md_text=dataframe_to_text(r4_to_md)\n",
    "with open(\"./dist/r4.md\",\"w\") as f:\n",
    "    f.write(r4_md_text)\n",
    "\n",
    "r4_md_text_to_edit=dataframe_to_text(r4_md_to_edit)\n",
    "with open(\"./dist/r4_to_edit.md\",\"w\") as f:\n",
    "    f.write(r4_md_text_to_edit)\n"
   ]
  }
 ],
 "metadata": {
  "interpreter": {
   "hash": "d4d1e4263499bec80672ea0156c357c1ee493ec2b1c70f0acce89fc37c4a6abe"
  },
  "kernelspec": {
   "display_name": "Python 3.9.7 64-bit ('base': conda)",
   "language": "python",
   "name": "python3"
  },
  "language_info": {
   "codemirror_mode": {
    "name": "ipython",
    "version": 3
   },
   "file_extension": ".py",
   "mimetype": "text/x-python",
   "name": "python",
   "nbconvert_exporter": "python",
   "pygments_lexer": "ipython3",
   "version": "3.9.7"
  },
  "orig_nbformat": 4
 },
 "nbformat": 4,
 "nbformat_minor": 2
}
