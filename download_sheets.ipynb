{
 "cells": [
  {
   "cell_type": "code",
   "execution_count": 1,
   "metadata": {},
   "outputs": [
    {
     "name": "stdout",
     "output_type": "stream",
     "text": [
      "R4コアカリ提出用-別表 - Updated:False\n",
      "R4コアカリ提出用 - Updated:False\n",
      "連携編集用 - Updated:False\n",
      "総合編集用 - Updated:False\n",
      "科学編集用 - Updated:False\n",
      "社会編集用 - Updated:True\n",
      "saving ./raw/gsheets/社会編集用/変更履歴.csv\n",
      "saving ./raw/gsheets/社会編集用/第2から4層.csv\n",
      "saving ./raw/gsheets/社会編集用/社会PTシートから第2から4層(So社会）.csv\n",
      "saving ./raw/gsheets/社会編集用/統計用.csv\n",
      "saving ./raw/gsheets/社会編集用/第2層.csv\n",
      "saving ./raw/gsheets/社会編集用/H28.csv\n",
      "saving ./raw/gsheets/社会編集用/第4層.csv\n",
      "saving ./raw/gsheets/社会編集用/行き先がないID.csv\n",
      "知識編集用 - Updated:False\n",
      "技能編集用 - Updated:False\n",
      "情報編集用 - Updated:False\n",
      "プロ編集用 - Updated:True\n",
      "saving ./raw/gsheets/プロ編集用/変更履歴.csv\n",
      "saving ./raw/gsheets/プロ編集用/第2から4層.csv\n",
      "saving ./raw/gsheets/プロ編集用/社会PTのシートより第2から4層(PRプロ）.csv\n",
      "saving ./raw/gsheets/プロ編集用/統計用.csv\n",
      "saving ./raw/gsheets/プロ編集用/第2層.csv\n",
      "saving ./raw/gsheets/プロ編集用/H28.csv\n",
      "saving ./raw/gsheets/プロ編集用/行き先がないID.csv\n",
      "saving ./raw/gsheets/プロ編集用/第4層.csv\n",
      "コミュ編集用 - Updated:False\n"
     ]
    }
   ],
   "source": [
    "import os.path\n",
    "import os\n",
    "from dateutil import parser\n",
    "import pandas as pd\n",
    "from lib.google_spread import get_sheetapp\n",
    "\n",
    "\n",
    "info=pd.read_csv(\"./r4_gsheets_info.csv\")\n",
    "try:\n",
    "    for i,url in enumerate(list(info[\"url\"])):\n",
    "        spreadsheet = get_sheetapp().open_by_url(url)\n",
    "        sheet_name=spreadsheet.title\n",
    "        modified_recorded=None\n",
    "        if str(info.at[i,\"lastUpDate\"])!=\"nan\": \n",
    "            modified_recorded=parser.parse(str(info.at[i,\"lastUpDate\"]))\n",
    "        else:\n",
    "            modified_recorded=parser.parse(\"1980-10-06 12:00Z\")\n",
    "        lastUpdate=spreadsheet.lastUpdateTime\n",
    "        modified=parser.parse(lastUpdate)\n",
    "        print(f\"{sheet_name} - Updated:{modified > modified_recorded}\")\n",
    "\n",
    "        if modified > modified_recorded:\n",
    "            for sheet in list(spreadsheet.worksheets()):\n",
    "                dir = f\"./raw/gsheets/{sheet_name}\"\n",
    "                os.makedirs(dir, exist_ok=True)\n",
    "                name=f'{sheet.title}'\n",
    "                data = pd.DataFrame(sheet.get_all_records())\n",
    "                print(f'saving {dir}/{sheet.title}.csv')\n",
    "                data.to_csv(f\"{dir}/{sheet.title}.csv\",encoding=\"utf_8_sig\",index=False)\n",
    "        info.at[i,\"lastUpDate\"]=lastUpdate\n",
    "except:\n",
    "    print(\"APIError\")\n",
    "\n",
    "info.to_csv(\"./r4_gsheets_info.csv\",encoding=\"utf_8_sig\",index=False)\n",
    "\n",
    "\n",
    "\n"
   ]
  }
 ],
 "metadata": {
  "interpreter": {
   "hash": "d4d1e4263499bec80672ea0156c357c1ee493ec2b1c70f0acce89fc37c4a6abe"
  },
  "kernelspec": {
   "display_name": "Python 3.9.7 64-bit ('base': conda)",
   "language": "python",
   "name": "python3"
  },
  "language_info": {
   "codemirror_mode": {
    "name": "ipython",
    "version": 3
   },
   "file_extension": ".py",
   "mimetype": "text/x-python",
   "name": "python",
   "nbconvert_exporter": "python",
   "pygments_lexer": "ipython3",
   "version": "3.9.7"
  },
  "orig_nbformat": 4
 },
 "nbformat": 4,
 "nbformat_minor": 2
}
