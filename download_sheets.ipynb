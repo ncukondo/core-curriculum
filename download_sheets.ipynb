{
 "cells": [
  {
   "cell_type": "code",
   "execution_count": 9,
   "metadata": {},
   "outputs": [
    {
     "name": "stdout",
     "output_type": "stream",
     "text": [
      "コミュニケーション能力_0131版_査読 in 2022-02-12T08:43:48.082000+00:00\n",
      "多職種連携能力_0131版_査読 in 2022-02-12T08:43:02.530000+00:00\n",
      "科学的探究_0131版_査読 in 2022-02-12T08:42:53.552000+00:00\n",
      "skip: プロフェッショナリズム_0131版_査読\n",
      "専門知識に基づいた問題解決能力_0131版_査読 in 2022-02-12T08:33:52.727000+00:00\n",
      "社会における医療の役割の理解_0131版_査読 in 2022-02-12T08:33:45.967000+00:00\n",
      "生涯にわたって共に学ぶ姿勢_0131版_査読 in 2022-02-12T08:33:41.658000+00:00\n"
     ]
    }
   ],
   "source": [
    "import os\n",
    "import tempfile\n",
    "import pandas as pd\n",
    "import csv\n",
    "\n",
    "from lib.export_google_sheets import export_google_sheets\n",
    "\n",
    "\n",
    "folder_ids=[\n",
    "        '1HhIkzwUMBTfStSCyhSRf1SkbQq21hLnM',\n",
    "        '1NrjWTGweLNoUU1n-EH9yhIU5ZBUHOLs1',\n",
    "        '1FlCwwi71s1BI4uhOf2CefX85byj1Alo_'\n",
    "]\n",
    "DIST_DIR=\"./raw/sheets/\"\n",
    "\n",
    "try:\n",
    "    with tempfile.TemporaryDirectory() as temp_dir:\n",
    "        file_list=export_google_sheets(folder_ids,temp_dir)\n",
    "        for file in file_list:\n",
    "            book = pd.ExcelFile(file[\"export_path\"])\n",
    "            dir_name = os.path.join(DIST_DIR,file['name'])\n",
    "            os.makedirs(dir_name,exist_ok=True)\n",
    "            for name in book.sheet_names:\n",
    "                sheet:pd.DataFrame = book.parse(name)\n",
    "                sheet.to_csv(os.path.join(dir_name,f\"{name}.csv\"),encoding=\"utf_8_sig\",index=False,)\n",
    "except:\n",
    "    import traceback\n",
    "    traceback.print_exc()"
   ]
  }
 ],
 "metadata": {
  "interpreter": {
   "hash": "d4d1e4263499bec80672ea0156c357c1ee493ec2b1c70f0acce89fc37c4a6abe"
  },
  "kernelspec": {
   "display_name": "Python 3.9.7 64-bit ('base': conda)",
   "language": "python",
   "name": "python3"
  },
  "language_info": {
   "codemirror_mode": {
    "name": "ipython",
    "version": 3
   },
   "file_extension": ".py",
   "mimetype": "text/x-python",
   "name": "python",
   "nbconvert_exporter": "python",
   "pygments_lexer": "ipython3",
   "version": "3.9.7"
  },
  "orig_nbformat": 4
 },
 "nbformat": 4,
 "nbformat_minor": 2
}
