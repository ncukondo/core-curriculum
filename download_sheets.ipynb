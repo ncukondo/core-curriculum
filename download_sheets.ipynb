{
 "cells": [
  {
   "cell_type": "code",
   "execution_count": 1,
   "metadata": {},
   "outputs": [
    {
     "name": "stdout",
     "output_type": "stream",
     "text": [
      "連携編集用 in 2022-03-14T08:57:27.025Z\n",
      "科学的探究_0131版_査読 in 2022-03-14T08:54:03.115Z\n",
      "多職種連携能力_0131版_査読 in 2022-03-14T08:53:57.015Z\n",
      "社会における医療の役割の理解_0131版_査読 in 2022-03-14T08:53:54.788Z\n",
      "生涯にわたって共に学ぶ姿勢_0131版_査読 in 2022-03-14T08:53:52.161Z\n",
      "プロフェッショナリズム_0131版_査読 in 2022-03-14T08:53:12.296Z\n",
      "プロ編集用 in 2022-03-14T08:53:04.467Z\n",
      "総合編集用 in 2022-03-14T08:52:57.389Z\n",
      "情報編集用 in 2022-03-14T08:52:53.881Z\n",
      "技能編集用 in 2022-03-14T08:51:20.484Z\n",
      "科学編集用 in 2022-03-14T08:50:08.098Z\n",
      "コミュ編集用 in 2022-03-14T08:49:36.950Z\n",
      "R4コアカリ-集計情報 in 2022-03-14T08:45:31.116Z\n",
      "社会編集用 in 2022-03-14T08:40:17.185Z\n",
      "生涯編集用 in 2022-03-14T08:39:51.174Z\n",
      "知識編集用 in 2022-03-14T08:31:21.347Z\n"
     ]
    }
   ],
   "source": [
    "import os\n",
    "import tempfile\n",
    "import pandas as pd\n",
    "import csv\n",
    "\n",
    "from lib.export_google_sheets import export_google_sheets\n",
    "\n",
    "\n",
    "folder_ids=[\n",
    "        '1IDl3cSc8u5y4Gf13_PBCEZdFFnDv6Ilz', #入力\n",
    "        '1HhIkzwUMBTfStSCyhSRf1SkbQq21hLnM', #データフォーマット\n",
    "        '1NrjWTGweLNoUU1n-EH9yhIU5ZBUHOLs1', # R4 version0131に対する査読\n",
    "        '1FlCwwi71s1BI4uhOf2CefX85byj1Alo_', #各チーム編集用シート\n",
    "]\n",
    "DIST_DIR=\"./raw/sheets/\"\n",
    "\n",
    "try:\n",
    "    with tempfile.TemporaryDirectory() as temp_dir:\n",
    "        file_list=export_google_sheets(folder_ids,temp_dir,info_stor_file=\"./raw/sheets/sheets_info.json\")\n",
    "        for file in file_list:\n",
    "            book = pd.ExcelFile(file[\"export_path\"])\n",
    "            dir_name = os.path.join(DIST_DIR,file['name'])\n",
    "            os.makedirs(dir_name,exist_ok=True)\n",
    "            for name in book.sheet_names:\n",
    "                sheet:pd.DataFrame = book.parse(name)\n",
    "                sheet.to_csv(os.path.join(dir_name,f\"{name}.csv\"),encoding=\"utf_8_sig\",index=False,)\n",
    "except:\n",
    "    import traceback\n",
    "    traceback.print_exc()"
   ]
  }
 ],
 "metadata": {
  "interpreter": {
   "hash": "d4d1e4263499bec80672ea0156c357c1ee493ec2b1c70f0acce89fc37c4a6abe"
  },
  "kernelspec": {
   "display_name": "Python 3.9.7 64-bit ('base': conda)",
   "language": "python",
   "name": "python3"
  },
  "language_info": {
   "codemirror_mode": {
    "name": "ipython",
    "version": 3
   },
   "file_extension": ".py",
   "mimetype": "text/x-python",
   "name": "python",
   "nbconvert_exporter": "python",
   "pygments_lexer": "ipython3",
   "version": "3.9.10"
  },
  "orig_nbformat": 4
 },
 "nbformat": 4,
 "nbformat_minor": 2
}
